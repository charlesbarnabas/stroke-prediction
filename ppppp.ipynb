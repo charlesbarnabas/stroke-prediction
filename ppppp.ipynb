{
  "cells": [
    {
      "cell_type": "markdown",
      "id": "jwLis8K63Jvw",
      "metadata": {
        "id": "jwLis8K63Jvw"
      },
      "source": [
        "### **Studi Kasus**"
      ]
    },
    {
      "cell_type": "markdown",
      "id": "O4wWQVex3Q62",
      "metadata": {
        "id": "O4wWQVex3Q62"
      },
      "source": [
        "### 📄 Informasi Dataset\n",
        "\n",
        "Sebuah tim data science Daspro sedang mengembangkan sistem prediksi untuk membantu tenaga medis mengenali risiko stroke pada pasien berdasarkan data klinis dan demografis. Dataset yang digunakan berisi informasi seperti:\n",
        "\n",
        "1. **age** : Umur pasien\n",
        "2. **gender** : Jenis kelamin\n",
        "3. **hypertension** : Riwayat hipertensi dan penyakit jantung\n",
        "4. **ever_married** : Status pernikahan\n",
        "5. **work_type** : Jenis pekerjaan\n",
        "6. **Residence_type** : tempat tinggal\n",
        "7. **avg_glucose_level** : Level glukosa rata-rata\n",
        "8. **bmi** : BMI (Body Mass Index)\n",
        "9. **smoking_status** : Status merokok\n",
        "\n",
        "Tim memutuskan menggunakan algoritma Naive Bayes untuk membangun model klasifikasi yang dapat memprediksi apakah seorang pasien berisiko terkena stroke atau tidak.\n",
        "\n",
        "Setelah model selesai dibuat dan dievaluasi, tim juga membangun dashboard interaktif menggunakan Streamlit agar pengguna dapat:\n",
        "* Memasukkan data pasien baru untuk mendapatkan prediksi secara langsung.\n",
        "* Melihat visualisasi data dan performa model.\n",
        "\n",
        "---"
      ]
    },
    {
      "cell_type": "markdown",
      "id": "7RvRuHnuS2Ps",
      "metadata": {
        "id": "7RvRuHnuS2Ps"
      },
      "source": [
        "#### **Dataset**\n",
        "\n",
        "1. **id**               : ID Pasien\n",
        "2. **gender**           : jenis kelamin pasien\n",
        "- 0: Female\n",
        "- 1: Male\n",
        "3. **age**              : usia pasien\n",
        "4. **hypertension**     : riwayat penyakin hipertensi\n",
        "- 0: memiliki riwayat\n",
        "- 1: tidak memiliki riwayat\n",
        "5. **heart_disease**    : riwayat penyakit jantung\n",
        "- 0: memiliki riwayat\n",
        "- 1: tidak memiliki riwayat\n",
        "6. **ever_married**     : status pernikahan\n",
        "- 0: No\n",
        "- 1: Yes\n",
        "7. **work_type**        : tipe pekerjaan\n",
        "- 0: Govt_job\n",
        "- 1: Never_worked\n",
        "- 2: Private\n",
        "- 3: Self-employed\n",
        "- 4: Children\n",
        "8. **Residence_type**   : tempat tinggal\n",
        "- 0: Rural\n",
        "- 1: Urban\n",
        "9. **avg_glucose_level** : level glukosa rata-rata\n",
        "10. **bmi** : BMI (Body Mass Index)\n",
        "11. **smoking_status**  : status merokok\n",
        "- 0: Unknown\n",
        "- 1: Formerly smoked\n",
        "- 2: Never smoked\n",
        "- 3: smokes\n",
        "12. **stroke** : Label Data\n",
        "\n",
        "---"
      ]
    },
    {
      "cell_type": "markdown",
      "id": "FuLa7PZoZd9Q",
      "metadata": {
        "id": "FuLa7PZoZd9Q"
      },
      "source": [
        "#### **Data Understanding**"
      ]
    },
    {
      "cell_type": "markdown",
      "id": "fxES3wtqZtZv",
      "metadata": {
        "id": "fxES3wtqZtZv"
      },
      "source": [
        "Pertama, kita akan membaca dan melihat ringkasan statistik dari dataset menggunakan pandas dan menampilkan beberapa baris awal untuk memahami struktur data.\n",
        "\n",
        "**Hint: library pandas, menggunkan `read_csv()`, `head()`, `describe()`**"
      ]
    },
    {
      "cell_type": "code",
      "execution_count": 1,
      "id": "UIaoZXFq1Lel",
      "metadata": {
        "colab": {
          "base_uri": "https://localhost:8080/",
          "height": 206
        },
        "id": "UIaoZXFq1Lel",
        "outputId": "cc9488dc-4336-4f8e-bbf8-e6c4cbc701d2"
      },
      "outputs": [
        {
          "data": {
            "application/vnd.microsoft.datawrangler.viewer.v0+json": {
              "columns": [
                {
                  "name": "index",
                  "rawType": "object",
                  "type": "string"
                },
                {
                  "name": "id",
                  "rawType": "float64",
                  "type": "float"
                },
                {
                  "name": "gender",
                  "rawType": "float64",
                  "type": "float"
                },
                {
                  "name": "age",
                  "rawType": "float64",
                  "type": "float"
                },
                {
                  "name": "hypertension",
                  "rawType": "float64",
                  "type": "float"
                },
                {
                  "name": "heart_disease",
                  "rawType": "float64",
                  "type": "float"
                },
                {
                  "name": "ever_married",
                  "rawType": "float64",
                  "type": "float"
                },
                {
                  "name": "work_type",
                  "rawType": "float64",
                  "type": "float"
                },
                {
                  "name": "Residence_type",
                  "rawType": "float64",
                  "type": "float"
                },
                {
                  "name": "avg_glucose_level",
                  "rawType": "float64",
                  "type": "float"
                },
                {
                  "name": "bmi",
                  "rawType": "float64",
                  "type": "float"
                },
                {
                  "name": "smoking_status",
                  "rawType": "float64",
                  "type": "float"
                },
                {
                  "name": "stroke",
                  "rawType": "float64",
                  "type": "float"
                }
              ],
              "conversionMethod": "pd.DataFrame",
              "ref": "eb5dd089-1f7f-4db7-b770-995cf71f6925",
              "rows": [
                [
                  "count",
                  "4383.0",
                  "4383.0",
                  "4383.0",
                  "4383.0",
                  "4383.0",
                  "4383.0",
                  "4383.0",
                  "4383.0",
                  "4383.0",
                  "4383.0",
                  "4383.0",
                  "4383.0"
                ],
                [
                  "mean",
                  "36605.00524754734",
                  "0.4104494638375542",
                  "40.89376226328998",
                  "0.07437827971708875",
                  "0.03924252794889345",
                  "0.6228610540725531",
                  "2.2019164955509924",
                  "0.5076431667807438",
                  "91.4761259411362",
                  "27.77000984888233",
                  "1.3442847364818618",
                  "0.03741729409080539"
                ],
                [
                  "std",
                  "21166.169103409367",
                  "0.4924351079992127",
                  "22.565007594622813",
                  "0.2624154384725706",
                  "0.19419360419153314",
                  "0.4847254565520152",
                  "1.11074416580949",
                  "0.49999862024292624",
                  "22.66325302361987",
                  "6.521408259871202",
                  "1.0848816189017023",
                  "0.18980373957009947"
                ],
                [
                  "min",
                  "67.0",
                  "0.0",
                  "0.08",
                  "0.0",
                  "0.0",
                  "0.0",
                  "0.0",
                  "0.0",
                  "55.12",
                  "10.3",
                  "0.0",
                  "0.0"
                ],
                [
                  "25%",
                  "17864.5",
                  "0.0",
                  "23.0",
                  "0.0",
                  "0.0",
                  "0.0",
                  "2.0",
                  "0.0",
                  "75.07499999999999",
                  "23.2",
                  "0.0",
                  "0.0"
                ],
                [
                  "50%",
                  "36969.0",
                  "0.0",
                  "42.0",
                  "0.0",
                  "0.0",
                  "1.0",
                  "2.0",
                  "1.0",
                  "88.04",
                  "27.6",
                  "2.0",
                  "0.0"
                ],
                [
                  "75%",
                  "54870.0",
                  "1.0",
                  "58.0",
                  "0.0",
                  "0.0",
                  "1.0",
                  "3.0",
                  "1.0",
                  "104.025",
                  "31.8",
                  "2.0",
                  "0.0"
                ],
                [
                  "max",
                  "72940.0",
                  "2.0",
                  "82.0",
                  "1.0",
                  "1.0",
                  "1.0",
                  "4.0",
                  "1.0",
                  "168.68",
                  "45.5",
                  "3.0",
                  "1.0"
                ]
              ],
              "shape": {
                "columns": 12,
                "rows": 8
              }
            },
            "text/html": [
              "<div>\n",
              "<style scoped>\n",
              "    .dataframe tbody tr th:only-of-type {\n",
              "        vertical-align: middle;\n",
              "    }\n",
              "\n",
              "    .dataframe tbody tr th {\n",
              "        vertical-align: top;\n",
              "    }\n",
              "\n",
              "    .dataframe thead th {\n",
              "        text-align: right;\n",
              "    }\n",
              "</style>\n",
              "<table border=\"1\" class=\"dataframe\">\n",
              "  <thead>\n",
              "    <tr style=\"text-align: right;\">\n",
              "      <th></th>\n",
              "      <th>id</th>\n",
              "      <th>gender</th>\n",
              "      <th>age</th>\n",
              "      <th>hypertension</th>\n",
              "      <th>heart_disease</th>\n",
              "      <th>ever_married</th>\n",
              "      <th>work_type</th>\n",
              "      <th>Residence_type</th>\n",
              "      <th>avg_glucose_level</th>\n",
              "      <th>bmi</th>\n",
              "      <th>smoking_status</th>\n",
              "      <th>stroke</th>\n",
              "    </tr>\n",
              "  </thead>\n",
              "  <tbody>\n",
              "    <tr>\n",
              "      <th>count</th>\n",
              "      <td>4383.000000</td>\n",
              "      <td>4383.000000</td>\n",
              "      <td>4383.000000</td>\n",
              "      <td>4383.000000</td>\n",
              "      <td>4383.000000</td>\n",
              "      <td>4383.000000</td>\n",
              "      <td>4383.000000</td>\n",
              "      <td>4383.000000</td>\n",
              "      <td>4383.000000</td>\n",
              "      <td>4383.000000</td>\n",
              "      <td>4383.000000</td>\n",
              "      <td>4383.000000</td>\n",
              "    </tr>\n",
              "    <tr>\n",
              "      <th>mean</th>\n",
              "      <td>36605.005248</td>\n",
              "      <td>0.410449</td>\n",
              "      <td>40.893762</td>\n",
              "      <td>0.074378</td>\n",
              "      <td>0.039243</td>\n",
              "      <td>0.622861</td>\n",
              "      <td>2.201916</td>\n",
              "      <td>0.507643</td>\n",
              "      <td>91.476126</td>\n",
              "      <td>27.770010</td>\n",
              "      <td>1.344285</td>\n",
              "      <td>0.037417</td>\n",
              "    </tr>\n",
              "    <tr>\n",
              "      <th>std</th>\n",
              "      <td>21166.169103</td>\n",
              "      <td>0.492435</td>\n",
              "      <td>22.565008</td>\n",
              "      <td>0.262415</td>\n",
              "      <td>0.194194</td>\n",
              "      <td>0.484725</td>\n",
              "      <td>1.110744</td>\n",
              "      <td>0.499999</td>\n",
              "      <td>22.663253</td>\n",
              "      <td>6.521408</td>\n",
              "      <td>1.084882</td>\n",
              "      <td>0.189804</td>\n",
              "    </tr>\n",
              "    <tr>\n",
              "      <th>min</th>\n",
              "      <td>67.000000</td>\n",
              "      <td>0.000000</td>\n",
              "      <td>0.080000</td>\n",
              "      <td>0.000000</td>\n",
              "      <td>0.000000</td>\n",
              "      <td>0.000000</td>\n",
              "      <td>0.000000</td>\n",
              "      <td>0.000000</td>\n",
              "      <td>55.120000</td>\n",
              "      <td>10.300000</td>\n",
              "      <td>0.000000</td>\n",
              "      <td>0.000000</td>\n",
              "    </tr>\n",
              "    <tr>\n",
              "      <th>25%</th>\n",
              "      <td>17864.500000</td>\n",
              "      <td>0.000000</td>\n",
              "      <td>23.000000</td>\n",
              "      <td>0.000000</td>\n",
              "      <td>0.000000</td>\n",
              "      <td>0.000000</td>\n",
              "      <td>2.000000</td>\n",
              "      <td>0.000000</td>\n",
              "      <td>75.075000</td>\n",
              "      <td>23.200000</td>\n",
              "      <td>0.000000</td>\n",
              "      <td>0.000000</td>\n",
              "    </tr>\n",
              "    <tr>\n",
              "      <th>50%</th>\n",
              "      <td>36969.000000</td>\n",
              "      <td>0.000000</td>\n",
              "      <td>42.000000</td>\n",
              "      <td>0.000000</td>\n",
              "      <td>0.000000</td>\n",
              "      <td>1.000000</td>\n",
              "      <td>2.000000</td>\n",
              "      <td>1.000000</td>\n",
              "      <td>88.040000</td>\n",
              "      <td>27.600000</td>\n",
              "      <td>2.000000</td>\n",
              "      <td>0.000000</td>\n",
              "    </tr>\n",
              "    <tr>\n",
              "      <th>75%</th>\n",
              "      <td>54870.000000</td>\n",
              "      <td>1.000000</td>\n",
              "      <td>58.000000</td>\n",
              "      <td>0.000000</td>\n",
              "      <td>0.000000</td>\n",
              "      <td>1.000000</td>\n",
              "      <td>3.000000</td>\n",
              "      <td>1.000000</td>\n",
              "      <td>104.025000</td>\n",
              "      <td>31.800000</td>\n",
              "      <td>2.000000</td>\n",
              "      <td>0.000000</td>\n",
              "    </tr>\n",
              "    <tr>\n",
              "      <th>max</th>\n",
              "      <td>72940.000000</td>\n",
              "      <td>2.000000</td>\n",
              "      <td>82.000000</td>\n",
              "      <td>1.000000</td>\n",
              "      <td>1.000000</td>\n",
              "      <td>1.000000</td>\n",
              "      <td>4.000000</td>\n",
              "      <td>1.000000</td>\n",
              "      <td>168.680000</td>\n",
              "      <td>45.500000</td>\n",
              "      <td>3.000000</td>\n",
              "      <td>1.000000</td>\n",
              "    </tr>\n",
              "  </tbody>\n",
              "</table>\n",
              "</div>"
            ],
            "text/plain": [
              "                 id       gender          age  hypertension  heart_disease  \\\n",
              "count   4383.000000  4383.000000  4383.000000   4383.000000    4383.000000   \n",
              "mean   36605.005248     0.410449    40.893762      0.074378       0.039243   \n",
              "std    21166.169103     0.492435    22.565008      0.262415       0.194194   \n",
              "min       67.000000     0.000000     0.080000      0.000000       0.000000   \n",
              "25%    17864.500000     0.000000    23.000000      0.000000       0.000000   \n",
              "50%    36969.000000     0.000000    42.000000      0.000000       0.000000   \n",
              "75%    54870.000000     1.000000    58.000000      0.000000       0.000000   \n",
              "max    72940.000000     2.000000    82.000000      1.000000       1.000000   \n",
              "\n",
              "       ever_married    work_type  Residence_type  avg_glucose_level  \\\n",
              "count   4383.000000  4383.000000     4383.000000        4383.000000   \n",
              "mean       0.622861     2.201916        0.507643          91.476126   \n",
              "std        0.484725     1.110744        0.499999          22.663253   \n",
              "min        0.000000     0.000000        0.000000          55.120000   \n",
              "25%        0.000000     2.000000        0.000000          75.075000   \n",
              "50%        1.000000     2.000000        1.000000          88.040000   \n",
              "75%        1.000000     3.000000        1.000000         104.025000   \n",
              "max        1.000000     4.000000        1.000000         168.680000   \n",
              "\n",
              "               bmi  smoking_status       stroke  \n",
              "count  4383.000000     4383.000000  4383.000000  \n",
              "mean     27.770010        1.344285     0.037417  \n",
              "std       6.521408        1.084882     0.189804  \n",
              "min      10.300000        0.000000     0.000000  \n",
              "25%      23.200000        0.000000     0.000000  \n",
              "50%      27.600000        2.000000     0.000000  \n",
              "75%      31.800000        2.000000     0.000000  \n",
              "max      45.500000        3.000000     1.000000  "
            ]
          },
          "execution_count": 1,
          "metadata": {},
          "output_type": "execute_result"
        }
      ],
      "source": [
        "import pandas as pd\n",
        "\n",
        "df = pd.read_csv('dataset_StrokePredicton.csv')\n",
        "df.head()\n",
        "df.describe()"
      ]
    },
    {
      "cell_type": "markdown",
      "id": "a6d47252",
      "metadata": {},
      "source": [
        "Lihat ringkasan statistik dari dataset"
      ]
    },
    {
      "cell_type": "code",
      "execution_count": 2,
      "id": "ia0rdH7OaiSb",
      "metadata": {
        "colab": {
          "base_uri": "https://localhost:8080/",
          "height": 300
        },
        "id": "ia0rdH7OaiSb",
        "outputId": "444f5bf7-a044-4fc3-851e-386b459af6c8"
      },
      "outputs": [
        {
          "name": "stdout",
          "output_type": "stream",
          "text": [
            "<class 'pandas.core.frame.DataFrame'>\n",
            "RangeIndex: 4383 entries, 0 to 4382\n",
            "Data columns (total 12 columns):\n",
            " #   Column             Non-Null Count  Dtype  \n",
            "---  ------             --------------  -----  \n",
            " 0   id                 4383 non-null   int64  \n",
            " 1   gender             4383 non-null   int64  \n",
            " 2   age                4383 non-null   float64\n",
            " 3   hypertension       4383 non-null   int64  \n",
            " 4   heart_disease      4383 non-null   int64  \n",
            " 5   ever_married       4383 non-null   int64  \n",
            " 6   work_type          4383 non-null   int64  \n",
            " 7   Residence_type     4383 non-null   int64  \n",
            " 8   avg_glucose_level  4383 non-null   float64\n",
            " 9   bmi                4383 non-null   float64\n",
            " 10  smoking_status     4383 non-null   int64  \n",
            " 11  stroke             4383 non-null   int64  \n",
            "dtypes: float64(3), int64(9)\n",
            "memory usage: 411.0 KB\n"
          ]
        }
      ],
      "source": [
        "df.info()"
      ]
    },
    {
      "cell_type": "markdown",
      "id": "EVI1nFi8bDFQ",
      "metadata": {
        "id": "EVI1nFi8bDFQ"
      },
      "source": [
        "#### **Pre-Modeling**"
      ]
    },
    {
      "cell_type": "markdown",
      "id": "oovtz7eBbexj",
      "metadata": {
        "id": "oovtz7eBbexj"
      },
      "source": [
        "##### **Data Balancing**\n",
        "\n",
        "Lakukan balancing data pada label target yaitu **stroke**, untuk mengecek apakah data terdistribusi dengan merata atau tidak\n",
        "\n",
        "**Hint: `value_counts()`**"
      ]
    },
    {
      "cell_type": "code",
      "execution_count": 3,
      "id": "x-0NyKBMbagv",
      "metadata": {
        "colab": {
          "base_uri": "https://localhost:8080/",
          "height": 178
        },
        "id": "x-0NyKBMbagv",
        "outputId": "824311b5-380e-415e-f301-aba6677acdbc"
      },
      "outputs": [
        {
          "name": "stdout",
          "output_type": "stream",
          "text": [
            "\n",
            "=== Distribusi Awal Label 'stroke' ===\n",
            "stroke\n",
            "0    4219\n",
            "1     164\n",
            "Name: count, dtype: int64\n"
          ]
        }
      ],
      "source": [
        "print(\"\\n=== Distribusi Awal Label 'stroke' ===\")\n",
        "print(df['stroke'].value_counts())"
      ]
    },
    {
      "cell_type": "markdown",
      "id": "Hptc-3Pjc05W",
      "metadata": {
        "id": "Hptc-3Pjc05W"
      },
      "source": [
        "##### **Random UnderSampling**\n",
        "\n",
        "Pisahkan kelas mayoritas dan minoritas\n",
        "\n",
        "**Hint: mayoritas = 0, minoritas = 1**"
      ]
    },
    {
      "cell_type": "code",
      "execution_count": 4,
      "id": "kXaW0P4ldIJf",
      "metadata": {
        "id": "kXaW0P4ldIJf"
      },
      "outputs": [],
      "source": [
        "mayoritas = df[df['stroke'] == 0]\n",
        "minoritas = df[df['stroke'] == 1]"
      ]
    },
    {
      "cell_type": "markdown",
      "id": "VFCrmRuUdQVn",
      "metadata": {
        "id": "VFCrmRuUdQVn"
      },
      "source": [
        "Melakukan Random Undersampling\n",
        "\n",
        "**Hint: random_state = 42**"
      ]
    },
    {
      "cell_type": "code",
      "execution_count": 5,
      "id": "dylRnHf9dYSc",
      "metadata": {
        "id": "dylRnHf9dYSc"
      },
      "outputs": [],
      "source": [
        "mayoritas_undersampled = mayoritas.sample(n=len(minoritas), random_state=42)"
      ]
    },
    {
      "cell_type": "markdown",
      "id": "UuPgBRDFdiw-",
      "metadata": {
        "id": "UuPgBRDFdiw-"
      },
      "source": [
        "Gabungkan kembali kelas mayoritas yang sudah di undersampling dengan kelas minoritas\n",
        "\n",
        "**Hint: `concat()`**"
      ]
    },
    {
      "cell_type": "code",
      "execution_count": 6,
      "id": "EArEmRs4dsVJ",
      "metadata": {
        "id": "EArEmRs4dsVJ"
      },
      "outputs": [],
      "source": [
        "df_balanced = pd.concat([mayoritas_undersampled, minoritas])"
      ]
    },
    {
      "cell_type": "markdown",
      "id": "Qi0Yqyfvd0_v",
      "metadata": {
        "id": "Qi0Yqyfvd0_v"
      },
      "source": [
        "Cek kembali hasil distribusinya\n",
        "\n",
        "**Hint: `value_counts()`**"
      ]
    },
    {
      "cell_type": "code",
      "execution_count": 7,
      "id": "jyXZEJnOeBjj",
      "metadata": {
        "colab": {
          "base_uri": "https://localhost:8080/",
          "height": 196
        },
        "id": "jyXZEJnOeBjj",
        "outputId": "44bdabe3-2432-4e6a-f66b-b73b7ef33be1"
      },
      "outputs": [
        {
          "name": "stdout",
          "output_type": "stream",
          "text": [
            "\n",
            "Distribusi data setelah balancing:\n",
            "stroke\n",
            "0    164\n",
            "1    164\n",
            "Name: count, dtype: int64\n"
          ]
        }
      ],
      "source": [
        "print(\"\\nDistribusi data setelah balancing:\")\n",
        "print(df_balanced['stroke'].value_counts())"
      ]
    },
    {
      "cell_type": "markdown",
      "id": "uzv3TLUHfeDI",
      "metadata": {
        "id": "uzv3TLUHfeDI"
      },
      "source": [
        "#### **Build Model**\n",
        "\n",
        "Import semua library yang diperlukan untuk:\n",
        "* Membangun model klasifikasi **Naive Bayes**\n",
        "* **Membagi dataset** menjadi data latih dan data uji\n",
        "* **Mengevaluasi performa model** (akurasi, precision, recall, dll)\n",
        "\n"
      ]
    },
    {
      "cell_type": "code",
      "execution_count": 8,
      "id": "ZLWuQ18kfYDQ",
      "metadata": {
        "id": "ZLWuQ18kfYDQ"
      },
      "outputs": [
        {
          "name": "stderr",
          "output_type": "stream",
          "text": [
            "C:\\Users\\Legion\\AppData\\Roaming\\Python\\Python311\\site-packages\\matplotlib\\projections\\__init__.py:63: UserWarning: Unable to import Axes3D. This may be due to multiple versions of Matplotlib being installed (e.g. as a system package and as a pip package). As a result, the 3D projection is not available.\n",
            "  warnings.warn(\"Unable to import Axes3D. This may be due to multiple versions of \"\n"
          ]
        }
      ],
      "source": [
        "from sklearn.model_selection import train_test_split\n",
        "from sklearn.naive_bayes import GaussianNB\n",
        "from sklearn.metrics import accuracy_score, confusion_matrix, classification_report, roc_curve, roc_auc_score, auc\n",
        "import matplotlib.pyplot as plt\n",
        "import seaborn as sns"
      ]
    },
    {
      "cell_type": "markdown",
      "id": "31C8Wmv2hKgH",
      "metadata": {
        "id": "31C8Wmv2hKgH"
      },
      "source": [
        "**Pilih fitur** yang akan jadikan target (**stroke**)\n",
        "\n",
        "Pisahkan dataset menjadi 2 :\n",
        "* X ( independent variable )\n",
        "* y ( dependent variable )"
      ]
    },
    {
      "cell_type": "code",
      "execution_count": 9,
      "id": "Ucw7pfg8hq0J",
      "metadata": {
        "id": "Ucw7pfg8hq0J"
      },
      "outputs": [],
      "source": [
        "X = df_balanced.drop(columns=['id', 'stroke'])\n",
        "y = df_balanced['stroke']"
      ]
    },
    {
      "cell_type": "markdown",
      "id": "xeyt8lk9hx2o",
      "metadata": {
        "id": "xeyt8lk9hx2o"
      },
      "source": [
        "Split dataset untuk training dan testing, atur **size data uji sebanyak 20%**\n",
        "\n",
        "**Hint: function train_test_split**"
      ]
    },
    {
      "cell_type": "code",
      "execution_count": 10,
      "id": "StZQuNN-h7gE",
      "metadata": {
        "id": "StZQuNN-h7gE"
      },
      "outputs": [],
      "source": [
        "X_train, X_test, y_train, y_test = train_test_split(X, y, test_size=0.2, random_state=42)"
      ]
    },
    {
      "cell_type": "markdown",
      "id": "jSKkw8rtiO61",
      "metadata": {
        "id": "jSKkw8rtiO61"
      },
      "source": [
        "Latih model Naive Bayes\n",
        "\n",
        "**Hint: `GaussianNB()`, `fit()`**"
      ]
    },
    {
      "cell_type": "code",
      "execution_count": 11,
      "id": "02b655VSiiTM",
      "metadata": {
        "colab": {
          "base_uri": "https://localhost:8080/",
          "height": 80
        },
        "id": "02b655VSiiTM",
        "outputId": "9016b07b-04d4-48c5-d70b-00403c32c344"
      },
      "outputs": [
        {
          "data": {
            "text/html": [
              "<style>#sk-container-id-1 {color: black;}#sk-container-id-1 pre{padding: 0;}#sk-container-id-1 div.sk-toggleable {background-color: white;}#sk-container-id-1 label.sk-toggleable__label {cursor: pointer;display: block;width: 100%;margin-bottom: 0;padding: 0.3em;box-sizing: border-box;text-align: center;}#sk-container-id-1 label.sk-toggleable__label-arrow:before {content: \"▸\";float: left;margin-right: 0.25em;color: #696969;}#sk-container-id-1 label.sk-toggleable__label-arrow:hover:before {color: black;}#sk-container-id-1 div.sk-estimator:hover label.sk-toggleable__label-arrow:before {color: black;}#sk-container-id-1 div.sk-toggleable__content {max-height: 0;max-width: 0;overflow: hidden;text-align: left;background-color: #f0f8ff;}#sk-container-id-1 div.sk-toggleable__content pre {margin: 0.2em;color: black;border-radius: 0.25em;background-color: #f0f8ff;}#sk-container-id-1 input.sk-toggleable__control:checked~div.sk-toggleable__content {max-height: 200px;max-width: 100%;overflow: auto;}#sk-container-id-1 input.sk-toggleable__control:checked~label.sk-toggleable__label-arrow:before {content: \"▾\";}#sk-container-id-1 div.sk-estimator input.sk-toggleable__control:checked~label.sk-toggleable__label {background-color: #d4ebff;}#sk-container-id-1 div.sk-label input.sk-toggleable__control:checked~label.sk-toggleable__label {background-color: #d4ebff;}#sk-container-id-1 input.sk-hidden--visually {border: 0;clip: rect(1px 1px 1px 1px);clip: rect(1px, 1px, 1px, 1px);height: 1px;margin: -1px;overflow: hidden;padding: 0;position: absolute;width: 1px;}#sk-container-id-1 div.sk-estimator {font-family: monospace;background-color: #f0f8ff;border: 1px dotted black;border-radius: 0.25em;box-sizing: border-box;margin-bottom: 0.5em;}#sk-container-id-1 div.sk-estimator:hover {background-color: #d4ebff;}#sk-container-id-1 div.sk-parallel-item::after {content: \"\";width: 100%;border-bottom: 1px solid gray;flex-grow: 1;}#sk-container-id-1 div.sk-label:hover label.sk-toggleable__label {background-color: #d4ebff;}#sk-container-id-1 div.sk-serial::before {content: \"\";position: absolute;border-left: 1px solid gray;box-sizing: border-box;top: 0;bottom: 0;left: 50%;z-index: 0;}#sk-container-id-1 div.sk-serial {display: flex;flex-direction: column;align-items: center;background-color: white;padding-right: 0.2em;padding-left: 0.2em;position: relative;}#sk-container-id-1 div.sk-item {position: relative;z-index: 1;}#sk-container-id-1 div.sk-parallel {display: flex;align-items: stretch;justify-content: center;background-color: white;position: relative;}#sk-container-id-1 div.sk-item::before, #sk-container-id-1 div.sk-parallel-item::before {content: \"\";position: absolute;border-left: 1px solid gray;box-sizing: border-box;top: 0;bottom: 0;left: 50%;z-index: -1;}#sk-container-id-1 div.sk-parallel-item {display: flex;flex-direction: column;z-index: 1;position: relative;background-color: white;}#sk-container-id-1 div.sk-parallel-item:first-child::after {align-self: flex-end;width: 50%;}#sk-container-id-1 div.sk-parallel-item:last-child::after {align-self: flex-start;width: 50%;}#sk-container-id-1 div.sk-parallel-item:only-child::after {width: 0;}#sk-container-id-1 div.sk-dashed-wrapped {border: 1px dashed gray;margin: 0 0.4em 0.5em 0.4em;box-sizing: border-box;padding-bottom: 0.4em;background-color: white;}#sk-container-id-1 div.sk-label label {font-family: monospace;font-weight: bold;display: inline-block;line-height: 1.2em;}#sk-container-id-1 div.sk-label-container {text-align: center;}#sk-container-id-1 div.sk-container {/* jupyter's `normalize.less` sets `[hidden] { display: none; }` but bootstrap.min.css set `[hidden] { display: none !important; }` so we also need the `!important` here to be able to override the default hidden behavior on the sphinx rendered scikit-learn.org. See: https://github.com/scikit-learn/scikit-learn/issues/21755 */display: inline-block !important;position: relative;}#sk-container-id-1 div.sk-text-repr-fallback {display: none;}</style><div id=\"sk-container-id-1\" class=\"sk-top-container\"><div class=\"sk-text-repr-fallback\"><pre>GaussianNB()</pre><b>In a Jupyter environment, please rerun this cell to show the HTML representation or trust the notebook. <br />On GitHub, the HTML representation is unable to render, please try loading this page with nbviewer.org.</b></div><div class=\"sk-container\" hidden><div class=\"sk-item\"><div class=\"sk-estimator sk-toggleable\"><input class=\"sk-toggleable__control sk-hidden--visually\" id=\"sk-estimator-id-1\" type=\"checkbox\" checked><label for=\"sk-estimator-id-1\" class=\"sk-toggleable__label sk-toggleable__label-arrow\">GaussianNB</label><div class=\"sk-toggleable__content\"><pre>GaussianNB()</pre></div></div></div></div></div>"
            ],
            "text/plain": [
              "GaussianNB()"
            ]
          },
          "execution_count": 11,
          "metadata": {},
          "output_type": "execute_result"
        }
      ],
      "source": [
        "model = GaussianNB()\n",
        "model.fit(X_train, y_train)"
      ]
    },
    {
      "cell_type": "markdown",
      "id": "O8Vl2OO5jone",
      "metadata": {
        "id": "O8Vl2OO5jone"
      },
      "source": [
        "Buat prediksi dari model yang sudah dilatih\n",
        "\n",
        "**Hint: `predict()`**"
      ]
    },
    {
      "cell_type": "code",
      "execution_count": 12,
      "id": "7l1ZjG51jdyO",
      "metadata": {
        "colab": {
          "base_uri": "https://localhost:8080/"
        },
        "id": "7l1ZjG51jdyO",
        "outputId": "f4dbb88a-5285-4f20-ff17-52134addf0b9"
      },
      "outputs": [],
      "source": [
        "y_pred = model.predict(X_test)\n",
        "y_prob = model.predict_proba(X_test)[:, 1]"
      ]
    },
    {
      "cell_type": "markdown",
      "id": "UVk2jeRXkVDu",
      "metadata": {
        "id": "UVk2jeRXkVDu"
      },
      "source": [
        "#### **Evaluasi Model**"
      ]
    },
    {
      "cell_type": "markdown",
      "id": "82zf5IVGku1p",
      "metadata": {
        "id": "82zf5IVGku1p"
      },
      "source": [
        "Tampilkan hasil akurasi hasil **prediksi model**\n",
        "\n",
        "**Hint: `accuracy_score()`**"
      ]
    },
    {
      "cell_type": "code",
      "execution_count": 13,
      "id": "7vc7wadxkNz3",
      "metadata": {
        "colab": {
          "base_uri": "https://localhost:8080/"
        },
        "id": "7vc7wadxkNz3",
        "outputId": "86dfea71-7d43-4d1f-bf21-2642b32e6489"
      },
      "outputs": [
        {
          "name": "stdout",
          "output_type": "stream",
          "text": [
            "=== Accuracy Score ===\n",
            "0.6666666666666666\n"
          ]
        }
      ],
      "source": [
        "print(\"=== Accuracy Score ===\")\n",
        "print(accuracy_score(y_test, y_pred))"
      ]
    },
    {
      "cell_type": "markdown",
      "id": "8sG5GNe8lLqG",
      "metadata": {
        "id": "8sG5GNe8lLqG"
      },
      "source": [
        "Tampilkan hasil **confusion matrix** hasil prediksi model\n",
        "\n",
        "**Hint: `confusion_matrix()`**"
      ]
    },
    {
      "cell_type": "code",
      "execution_count": 14,
      "id": "H5LFUWW3lJUJ",
      "metadata": {
        "colab": {
          "base_uri": "https://localhost:8080/"
        },
        "id": "H5LFUWW3lJUJ",
        "outputId": "3766a8d8-9cd7-4aac-e6a0-7a2d71fb1e7c"
      },
      "outputs": [
        {
          "name": "stdout",
          "output_type": "stream",
          "text": [
            "\n",
            "=== Confusion Matrix ===\n",
            "[[23 11]\n",
            " [11 21]]\n"
          ]
        }
      ],
      "source": [
        "print(\"\\n=== Confusion Matrix ===\")\n",
        "print(confusion_matrix(y_test, y_pred))"
      ]
    },
    {
      "cell_type": "markdown",
      "id": "T1lfoM0ClcZq",
      "metadata": {
        "id": "T1lfoM0ClcZq"
      },
      "source": [
        "Menampilkan classification report hasil prediksi model\n",
        "\n",
        "**Hint: `classification_report()`**"
      ]
    },
    {
      "cell_type": "code",
      "execution_count": 15,
      "id": "6aRcvOoUlb1M",
      "metadata": {
        "colab": {
          "base_uri": "https://localhost:8080/"
        },
        "id": "6aRcvOoUlb1M",
        "outputId": "f697c5bc-787d-4dd0-d664-222ce17843b2"
      },
      "outputs": [
        {
          "name": "stdout",
          "output_type": "stream",
          "text": [
            "\n",
            "=== Classification Report ===\n",
            "              precision    recall  f1-score   support\n",
            "\n",
            "           0       0.68      0.68      0.68        34\n",
            "           1       0.66      0.66      0.66        32\n",
            "\n",
            "    accuracy                           0.67        66\n",
            "   macro avg       0.67      0.67      0.67        66\n",
            "weighted avg       0.67      0.67      0.67        66\n",
            "\n"
          ]
        }
      ],
      "source": [
        "print(\"\\n=== Classification Report ===\")\n",
        "print(classification_report(y_test, y_pred))"
      ]
    },
    {
      "cell_type": "markdown",
      "id": "VQCCxRm4l5BD",
      "metadata": {
        "id": "VQCCxRm4l5BD"
      },
      "source": [
        "Import library yang akan digunakan untuk melakuka evaluasi model menggunakan ROC\n",
        "\n",
        "**Hint: sklearn.metrics (roc_curve,roc_auc_score, auc) dan Matplotlib**"
      ]
    },
    {
      "cell_type": "code",
      "execution_count": 16,
      "id": "O3z-tA5TmGoV",
      "metadata": {
        "id": "O3z-tA5TmGoV"
      },
      "outputs": [],
      "source": [
        "from sklearn.metrics import roc_curve, roc_auc_score, auc\n",
        "import matplotlib.pyplot as plt"
      ]
    },
    {
      "cell_type": "markdown",
      "id": "GyI3gLzMmVLL",
      "metadata": {
        "id": "GyI3gLzMmVLL"
      },
      "source": [
        "Membuat probabilitas prediksi\n",
        "\n",
        "**Hint: `predict_proba()`**"
      ]
    },
    {
      "cell_type": "code",
      "execution_count": 17,
      "id": "PvbgOkyemKDm",
      "metadata": {
        "id": "PvbgOkyemKDm"
      },
      "outputs": [],
      "source": [
        "y_probs = model.predict_proba(X_test)[:, 1]"
      ]
    },
    {
      "cell_type": "markdown",
      "id": "hnGCr8-OmhBQ",
      "metadata": {
        "id": "hnGCr8-OmhBQ"
      },
      "source": [
        "Hitung kurva ROC dan threshold\n",
        "\n",
        "**Hint: `roc_curve()`**"
      ]
    },
    {
      "cell_type": "code",
      "execution_count": 18,
      "id": "hQL-2XFpmpCy",
      "metadata": {
        "id": "hQL-2XFpmpCy"
      },
      "outputs": [],
      "source": [
        "fpr, tpr, thresholds = roc_curve(y_test, y_probs)"
      ]
    },
    {
      "cell_type": "markdown",
      "id": "FpSRcElvms35",
      "metadata": {
        "id": "FpSRcElvms35"
      },
      "source": [
        "Hitung AUC\n",
        "\n",
        "**Hint: `auc()`**"
      ]
    },
    {
      "cell_type": "code",
      "execution_count": 19,
      "id": "wIOXtXxdmshO",
      "metadata": {
        "colab": {
          "base_uri": "https://localhost:8080/"
        },
        "id": "wIOXtXxdmshO",
        "outputId": "369f79c8-5954-4675-964d-ebac726b9f85"
      },
      "outputs": [
        {
          "name": "stdout",
          "output_type": "stream",
          "text": [
            "ROC AUC Score: 0.796875\n"
          ]
        }
      ],
      "source": [
        "roc_auc = auc(fpr, tpr)\n",
        "print(\"ROC AUC Score:\", roc_auc)"
      ]
    },
    {
      "cell_type": "markdown",
      "id": "N4Zxj6owm4K7",
      "metadata": {
        "id": "N4Zxj6owm4K7"
      },
      "source": [
        "Untuk lebih memudahkan pembacaan hasil, buat visualisasi dari ROC-AUC"
      ]
    },
    {
      "cell_type": "code",
      "execution_count": 20,
      "id": "Uuu_xqzRm_vx",
      "metadata": {
        "colab": {
          "base_uri": "https://localhost:8080/",
          "height": 564
        },
        "id": "Uuu_xqzRm_vx",
        "outputId": "d7a61fe8-fc3a-422e-96d2-c83f086987db"
      },
      "outputs": [
        {
          "data": {
            "image/png": "[encoded data removed]",
            "text/plain": [
              "<Figure size 640x480 with 1 Axes>"
            ]
          },
          "metadata": {},
          "output_type": "display_data"
        }
      ],
      "source": [
        "plt.figure()\n",
        "plt.plot(fpr, tpr, color='darkorange', lw=2, label='ROC curve (AUC = %0.2f)' % roc_auc)\n",
        "plt.plot([0, 1], [0, 1], color='navy', lw=2, linestyle='--')\n",
        "plt.xlim([0.0, 1.0])\n",
        "plt.ylim([0.0, 1.05])\n",
        "plt.xlabel('False Positive Rate')\n",
        "plt.ylabel('True Positive Rate')\n",
        "plt.title('Receiver Operating Characteristic (ROC)')\n",
        "plt.legend(loc=\"lower right\")\n",
        "plt.grid(True)\n",
        "plt.show()"
      ]
    },
    {
      "cell_type": "markdown",
      "id": "_sx4zoQLobMQ",
      "metadata": {
        "id": "_sx4zoQLobMQ"
      },
      "source": [
        "#### **Model Tuning**"
      ]
    },
    {
      "cell_type": "markdown",
      "id": "2Effx0xtorlB",
      "metadata": {
        "id": "2Effx0xtorlB"
      },
      "source": [
        "Untuk memperoleh evaluasi performa model yang lebih stabil dan dapat digeneralisasi, lakukan evaluasi ulang menggunakan **metode 5-Fold Cross Validation** dengan metrik ROC AUC. Tampilkan hasil skor setiap fold dan rata-rata dari skor tersebut.\n",
        "\n",
        "**Hint: cross_val_score() dari sklearn.model_selection**\n",
        "\n",
        "**Contoh parameter : cv = 5, scoring = roc_auc**"
      ]
    },
    {
      "cell_type": "markdown",
      "id": "0-P1zkVPwjbW",
      "metadata": {
        "id": "0-P1zkVPwjbW"
      },
      "source": [
        "Lakukan import library **cross_val_score, cross_val_predict**"
      ]
    },
    {
      "cell_type": "code",
      "execution_count": 21,
      "id": "Q_2cDIh5oamS",
      "metadata": {
        "id": "Q_2cDIh5oamS"
      },
      "outputs": [],
      "source": [
        "from sklearn.model_selection import cross_val_score, cross_val_predict\n",
        "from sklearn.naive_bayes import GaussianNB\n",
        "from sklearn.metrics import confusion_matrix, classification_report, accuracy_score"
      ]
    },
    {
      "cell_type": "markdown",
      "id": "FbmCrgfAu2kK",
      "metadata": {
        "id": "FbmCrgfAu2kK"
      },
      "source": [
        "Latih model\n",
        "\n",
        "**Hint: `GaussianNB()`, `cross_val_score()`**"
      ]
    },
    {
      "cell_type": "code",
      "execution_count": 22,
      "id": "5Ub5MW3JvKC4",
      "metadata": {
        "id": "5Ub5MW3JvKC4"
      },
      "outputs": [],
      "source": [
        "model = GaussianNB()\n",
        "\n",
        "# ROC AUC scores dari cross validation\n",
        "cv_scores = cross_val_score(model, X, y, cv=5, scoring='roc_auc')"
      ]
    },
    {
      "cell_type": "code",
      "execution_count": 23,
      "id": "E8tm6-kEjrKf",
      "metadata": {
        "colab": {
          "base_uri": "https://localhost:8080/",
          "height": 80
        },
        "id": "E8tm6-kEjrKf",
        "outputId": "1b011a8b-2bc3-4ec7-f9aa-589f45970d62"
      },
      "outputs": [
        {
          "name": "stdout",
          "output_type": "stream",
          "text": [
            "ROC AUC per fold: [0.87419651 0.82828283 0.87786961 0.80208333 0.81344697]\n",
            "Average ROC AUC: 0.8391758494031223\n"
          ]
        }
      ],
      "source": [
        "print(\"ROC AUC per fold:\", cv_scores)\n",
        "print(\"Average ROC AUC:\", cv_scores.mean())"
      ]
    },
    {
      "cell_type": "markdown",
      "id": "5B9wR3xvv3Ja",
      "metadata": {
        "id": "5B9wR3xvv3Ja"
      },
      "source": [
        "Tampilkan Akurasi Scorenya\n",
        "\n",
        "**Hint: `cross_val_predict()`**"
      ]
    },
    {
      "cell_type": "code",
      "execution_count": 24,
      "id": "mUw-D_c2w28o",
      "metadata": {
        "colab": {
          "base_uri": "https://localhost:8080/"
        },
        "id": "mUw-D_c2w28o",
        "outputId": "41359098-6f30-4a33-b34e-fa2da772784f"
      },
      "outputs": [],
      "source": [
        "y_pred = cross_val_predict(model, X, y, cv=5)"
      ]
    },
    {
      "cell_type": "markdown",
      "id": "nnL-WK0_xL58",
      "metadata": {
        "id": "nnL-WK0_xL58"
      },
      "source": [
        "Tampilkan hasil Confusion Matrix\n",
        "\n",
        "**Hint: `confusion_matrix()`**"
      ]
    },
    {
      "cell_type": "code",
      "execution_count": 25,
      "id": "xF7MoAamxcxr",
      "metadata": {
        "colab": {
          "base_uri": "https://localhost:8080/"
        },
        "id": "xF7MoAamxcxr",
        "outputId": "484c4932-681d-46fa-eaf7-079dee8378bb"
      },
      "outputs": [
        {
          "name": "stdout",
          "output_type": "stream",
          "text": [
            "Confusion Matrix:\n",
            " [[136  28]\n",
            " [ 60 104]]\n"
          ]
        }
      ],
      "source": [
        "cm = confusion_matrix(y, y_pred)\n",
        "print(\"Confusion Matrix:\\n\", cm)"
      ]
    },
    {
      "cell_type": "markdown",
      "id": "Pr42PQ0Yxg0B",
      "metadata": {
        "id": "Pr42PQ0Yxg0B"
      },
      "source": [
        "Menampilkan classification report hasil prediksi model\n",
        "\n",
        "**Hint: `classification_report()`**"
      ]
    },
    {
      "cell_type": "code",
      "execution_count": 26,
      "id": "8zFeqwNuxmVM",
      "metadata": {
        "colab": {
          "base_uri": "https://localhost:8080/"
        },
        "id": "8zFeqwNuxmVM",
        "outputId": "dc233a25-f167-4752-8b23-299a17da88a8"
      },
      "outputs": [
        {
          "name": "stdout",
          "output_type": "stream",
          "text": [
            "Classification Report:\n",
            "               precision    recall  f1-score   support\n",
            "\n",
            "           0       0.69      0.83      0.76       164\n",
            "           1       0.79      0.63      0.70       164\n",
            "\n",
            "    accuracy                           0.73       328\n",
            "   macro avg       0.74      0.73      0.73       328\n",
            "weighted avg       0.74      0.73      0.73       328\n",
            "\n"
          ]
        }
      ],
      "source": [
        "report = classification_report(y, y_pred)\n",
        "print(\"Classification Report:\\n\", report)"
      ]
    },
    {
      "cell_type": "markdown",
      "id": "5xpWh3_7vdwg",
      "metadata": {
        "id": "5xpWh3_7vdwg"
      },
      "source": [
        "Tampilkan score ROC AUC dan score dari rata-rata dari 5 kali uji performa model"
      ]
    },
    {
      "cell_type": "code",
      "execution_count": 27,
      "id": "QmHnl-1RvuBS",
      "metadata": {
        "colab": {
          "base_uri": "https://localhost:8080/"
        },
        "id": "QmHnl-1RvuBS",
        "outputId": "6d96919b-d0f7-4902-dbb0-6e7db2c07b0a"
      },
      "outputs": [
        {
          "name": "stdout",
          "output_type": "stream",
          "text": [
            "Fold 1 ROC AUC Score: 0.8742\n",
            "Fold 2 ROC AUC Score: 0.8283\n",
            "Fold 3 ROC AUC Score: 0.8779\n",
            "Fold 4 ROC AUC Score: 0.8021\n",
            "Fold 5 ROC AUC Score: 0.8134\n",
            "\n",
            "Rata-rata ROC AUC Score: 0.8392\n"
          ]
        }
      ],
      "source": [
        "model = GaussianNB()\n",
        "roc_auc_scores = cross_val_score(model, X, y, cv=5, scoring='roc_auc')\n",
        "\n",
        "for i, score in enumerate(roc_auc_scores, 1):\n",
        "    print(f\"Fold {i} ROC AUC Score: {score:.4f}\")\n",
        "\n",
        "print(f\"\\nRata-rata ROC AUC Score: {roc_auc_scores.mean():.4f}\")"
      ]
    },
    {
      "cell_type": "markdown",
      "id": "f5b052b4",
      "metadata": {
        "id": "f5b052b4"
      },
      "source": [
        "### **Deployment**"
      ]
    },
    {
      "cell_type": "markdown",
      "id": "0afa1e9b",
      "metadata": {
        "id": "0afa1e9b"
      },
      "source": [
        "Save Model"
      ]
    },
    {
      "cell_type": "markdown",
      "id": "204b449f",
      "metadata": {},
      "source": [
        "**Hint: `joblib`**"
      ]
    },
    {
      "cell_type": "code",
      "execution_count": 37,
      "id": "8cfad28e",
      "metadata": {
        "colab": {
          "base_uri": "https://localhost:8080/"
        },
        "id": "8cfad28e",
        "outputId": "340faa9f-88d0-4bfc-df47-45d65d79de61"
      },
      "outputs": [
        {
          "data": {
            "text/plain": [
              "['model_stroke.pkl']"
            ]
          },
          "execution_count": 37,
          "metadata": {},
          "output_type": "execute_result"
        }
      ],
      "source": [
        "import joblib\n",
        "\n",
        "model = GaussianNB()\n",
        "model.fit(X, y)\n",
        "\n",
        "# Simpan model yang sudah dilatih\n",
        "joblib.dump(model, 'model_stroke.pkl')"
      ]
    },
    {
      "cell_type": "markdown",
      "id": "45551c8c",
      "metadata": {
        "id": "45551c8c"
      },
      "source": [
        "Install Ngrok "
      ]
    },
    {
      "cell_type": "code",
      "execution_count": 29,
      "id": "2cb2a3b0",
      "metadata": {
        "colab": {
          "base_uri": "https://localhost:8080/"
        },
        "id": "2cb2a3b0",
        "outputId": "477f962d-31af-42ee-ad29-76a6ff87f903"
      },
      "outputs": [
        {
          "name": "stdout",
          "output_type": "stream",
          "text": [
            "Requirement already satisfied: pyngrok in c:\\python311\\lib\\site-packages (7.2.1)\n",
            "Requirement already satisfied: PyYAML>=5.1 in c:\\users\\legion\\appdata\\roaming\\python\\python311\\site-packages (from pyngrok) (6.0.2)\n"
          ]
        },
        {
          "name": "stderr",
          "output_type": "stream",
          "text": [
            "WARNING: There was an error checking the latest version of pip.\n"
          ]
        }
      ],
      "source": [
        "!pip install pyngrok"
      ]
    },
    {
      "cell_type": "markdown",
      "id": "fd108117",
      "metadata": {
        "id": "fd108117"
      },
      "source": [
        "Konfigurasikan token"
      ]
    },
    {
      "cell_type": "markdown",
      "id": "1e38c111",
      "metadata": {
        "id": "1e38c111"
      },
      "source": [
        "Contoh : !ngrok config add-authtoken **_token kamu_**"
      ]
    },
    {
      "cell_type": "code",
      "execution_count": null,
      "id": "87156381",
      "metadata": {
        "colab": {
          "base_uri": "https://localhost:8080/"
        },
        "id": "87156381",
        "outputId": "55650436-74ba-4501-9f93-8026cf93c1a5"
      },
      "outputs": [
        {
          "name": "stdout",
          "output_type": "stream",
          "text": [
            "Authtoken saved to configuration file: C:\\Users\\Legion\\AppData\\Local/ngrok/ngrok.yml\n"
          ]
        }
      ],
      "source": [
        "!ngrok config add-authtoken /path/to/your/ngrok/authtoken"
      ]
    },
    {
      "cell_type": "markdown",
      "id": "ce8ceb0a",
      "metadata": {
        "id": "ce8ceb0a"
      },
      "source": [
        "Install Streamlit"
      ]
    },
    {
      "cell_type": "code",
      "execution_count": 31,
      "id": "da92880c",
      "metadata": {
        "colab": {
          "base_uri": "https://localhost:8080/"
        },
        "id": "da92880c",
        "outputId": "d5b528f6-e272-43c4-dcef-6f42b7243c93"
      },
      "outputs": [
        {
          "name": "stdout",
          "output_type": "stream",
          "text": [
            "Requirement already satisfied: streamlit in c:\\python311\\lib\\site-packages (1.40.2)\n",
            "Requirement already satisfied: altair<6,>=4.0 in c:\\python311\\lib\\site-packages (from streamlit) (5.5.0)\n",
            "Requirement already satisfied: blinker<2,>=1.0.0 in c:\\python311\\lib\\site-packages (from streamlit) (1.9.0)\n",
            "Requirement already satisfied: cachetools<6,>=4.0 in c:\\python311\\lib\\site-packages (from streamlit) (5.5.0)\n",
            "Requirement already satisfied: click<9,>=7.0 in c:\\python311\\lib\\site-packages (from streamlit) (8.1.7)\n",
            "Requirement already satisfied: numpy<3,>=1.23 in c:\\python311\\lib\\site-packages (from streamlit) (1.24.3)\n",
            "Requirement already satisfied: packaging<25,>=20 in c:\\python311\\lib\\site-packages (from streamlit) (23.1)\n",
            "Requirement already satisfied: pandas<3,>=1.4.0 in c:\\python311\\lib\\site-packages (from streamlit) (2.0.2)\n",
            "Requirement already satisfied: pillow<12,>=7.1.0 in c:\\python311\\lib\\site-packages (from streamlit) (9.5.0)\n",
            "Requirement already satisfied: protobuf<6,>=3.20 in c:\\python311\\lib\\site-packages (from streamlit) (5.29.0)\n",
            "Requirement already satisfied: pyarrow>=7.0 in c:\\python311\\lib\\site-packages (from streamlit) (18.1.0)\n",
            "Requirement already satisfied: requests<3,>=2.27 in c:\\python311\\lib\\site-packages (from streamlit) (2.31.0)\n",
            "Requirement already satisfied: rich<14,>=10.14.0 in c:\\users\\legion\\appdata\\roaming\\python\\python311\\site-packages (from streamlit) (13.8.1)\n",
            "Requirement already satisfied: tenacity<10,>=8.1.0 in c:\\python311\\lib\\site-packages (from streamlit) (9.0.0)\n",
            "Requirement already satisfied: toml<2,>=0.10.1 in c:\\python311\\lib\\site-packages (from streamlit) (0.10.2)\n",
            "Requirement already satisfied: typing-extensions<5,>=4.3.0 in c:\\users\\legion\\appdata\\roaming\\python\\python311\\site-packages (from streamlit) (4.12.2)\n",
            "Requirement already satisfied: watchdog<7,>=2.1.5 in c:\\python311\\lib\\site-packages (from streamlit) (6.0.0)\n",
            "Requirement already satisfied: gitpython!=3.1.19,<4,>=3.0.7 in c:\\python311\\lib\\site-packages (from streamlit) (3.1.43)\n",
            "Requirement already satisfied: pydeck<1,>=0.8.0b4 in c:\\python311\\lib\\site-packages (from streamlit) (0.9.1)\n",
            "Requirement already satisfied: tornado<7,>=6.0.3 in c:\\users\\legion\\appdata\\roaming\\python\\python311\\site-packages (from streamlit) (6.4.1)\n",
            "Requirement already satisfied: jinja2 in c:\\python311\\lib\\site-packages (from altair<6,>=4.0->streamlit) (3.1.3)\n",
            "Requirement already satisfied: jsonschema>=3.0 in c:\\users\\legion\\appdata\\roaming\\python\\python311\\site-packages (from altair<6,>=4.0->streamlit) (4.23.0)\n",
            "Requirement already satisfied: narwhals>=1.14.2 in c:\\python311\\lib\\site-packages (from altair<6,>=4.0->streamlit) (1.14.3)\n",
            "Requirement already satisfied: colorama in c:\\python311\\lib\\site-packages (from click<9,>=7.0->streamlit) (0.4.6)\n",
            "Requirement already satisfied: gitdb<5,>=4.0.1 in c:\\python311\\lib\\site-packages (from gitpython!=3.1.19,<4,>=3.0.7->streamlit) (4.0.11)\n",
            "Requirement already satisfied: python-dateutil>=2.8.2 in c:\\python311\\lib\\site-packages (from pandas<3,>=1.4.0->streamlit) (2.8.2)\n",
            "Requirement already satisfied: pytz>=2020.1 in c:\\python311\\lib\\site-packages (from pandas<3,>=1.4.0->streamlit) (2023.3)\n",
            "Requirement already satisfied: tzdata>=2022.1 in c:\\python311\\lib\\site-packages (from pandas<3,>=1.4.0->streamlit) (2023.3)\n",
            "Requirement already satisfied: charset-normalizer<4,>=2 in c:\\python311\\lib\\site-packages (from requests<3,>=2.27->streamlit) (3.1.0)\n",
            "Requirement already satisfied: idna<4,>=2.5 in c:\\python311\\lib\\site-packages (from requests<3,>=2.27->streamlit) (3.4)\n",
            "Requirement already satisfied: urllib3<3,>=1.21.1 in c:\\python311\\lib\\site-packages (from requests<3,>=2.27->streamlit) (2.0.2)\n",
            "Requirement already satisfied: certifi>=2017.4.17 in c:\\python311\\lib\\site-packages (from requests<3,>=2.27->streamlit) (2023.11.17)\n",
            "Requirement already satisfied: markdown-it-py>=2.2.0 in c:\\users\\legion\\appdata\\roaming\\python\\python311\\site-packages (from rich<14,>=10.14.0->streamlit) (3.0.0)\n",
            "Requirement already satisfied: pygments<3.0.0,>=2.13.0 in c:\\users\\legion\\appdata\\roaming\\python\\python311\\site-packages (from rich<14,>=10.14.0->streamlit) (2.18.0)\n",
            "Requirement already satisfied: smmap<6,>=3.0.1 in c:\\python311\\lib\\site-packages (from gitdb<5,>=4.0.1->gitpython!=3.1.19,<4,>=3.0.7->streamlit) (5.0.1)\n",
            "Requirement already satisfied: MarkupSafe>=2.0 in c:\\python311\\lib\\site-packages (from jinja2->altair<6,>=4.0->streamlit) (2.1.4)\n",
            "Requirement already satisfied: attrs>=22.2.0 in c:\\users\\legion\\appdata\\roaming\\python\\python311\\site-packages (from jsonschema>=3.0->altair<6,>=4.0->streamlit) (24.2.0)\n",
            "Requirement already satisfied: jsonschema-specifications>=2023.03.6 in c:\\users\\legion\\appdata\\roaming\\python\\python311\\site-packages (from jsonschema>=3.0->altair<6,>=4.0->streamlit) (2023.12.1)\n",
            "Requirement already satisfied: referencing>=0.28.4 in c:\\users\\legion\\appdata\\roaming\\python\\python311\\site-packages (from jsonschema>=3.0->altair<6,>=4.0->streamlit) (0.35.1)\n",
            "Requirement already satisfied: rpds-py>=0.7.1 in c:\\users\\legion\\appdata\\roaming\\python\\python311\\site-packages (from jsonschema>=3.0->altair<6,>=4.0->streamlit) (0.20.0)\n",
            "Requirement already satisfied: mdurl~=0.1 in c:\\python311\\lib\\site-packages (from markdown-it-py>=2.2.0->rich<14,>=10.14.0->streamlit) (0.1.2)\n",
            "Requirement already satisfied: six>=1.5 in c:\\python311\\lib\\site-packages (from python-dateutil>=2.8.2->pandas<3,>=1.4.0->streamlit) (1.16.0)\n"
          ]
        },
        {
          "name": "stderr",
          "output_type": "stream",
          "text": [
            "WARNING: There was an error checking the latest version of pip.\n"
          ]
        }
      ],
      "source": [
        "!pip install streamlit"
      ]
    },
    {
      "cell_type": "code",
      "execution_count": null,
      "id": "98f0d3ed",
      "metadata": {
        "colab": {
          "base_uri": "https://localhost:8080/"
        },
        "id": "98f0d3ed",
        "outputId": "7f8224fd-fc3f-4a1a-d496-1edca7a7c675"
      },
      "outputs": [
        {
          "name": "stdout",
          "output_type": "stream",
          "text": [
            "Writing app.py\n"
          ]
        }
      ],
      "source": [
        "%%writefile app.py\n",
        "\n",
        "import streamlit as st\n",
        "import pandas as pd\n",
        "import numpy as np\n",
        "import joblib\n",
        "import matplotlib.pyplot as plt\n",
        "from sklearn.metrics import accuracy_score, precision_score, recall_score, f1_score, confusion_matrix, roc_curve, roc_auc_score\n",
        "import seaborn as sns\n",
        "\n",
        "#\n",
        "#1. Load Model yang sudah dilatih sebelumnya\n",
        "#\n",
        "model = joblib.load('model_stroke.pkl')\n",
        "\n",
        "# Judul\n",
        "\n",
        "st.set_page_config(\n",
        "    page_title=\"Dashboard Prediksi Risiko Stroke\",\n",
        "    page_icon=\"🧠\",\n",
        ")\n",
        "st.title(\" TP Modul 3 - Stroke Prediction App\")\n",
        "st.write(\"Masukkan data pasien untuk memprediksi kemungkinan terkena stroke.\")\n",
        "\n",
        "st.markdown(\"---\")\n",
        "st.subheader(\"Evaluasi Model\")\n",
        "\n",
        "#\n",
        "#2. Load dan persiapkan data sama seperti saat melatih model sebelumnya\n",
        "#\n",
        "data = pd.read_csv('dataset_StrokePredicton.csv')\n",
        "\n",
        "#\n",
        "# 2.1 Drop Column yang tidak diperlukan\n",
        "#\n",
        "data = data.drop(columns=['id'], errors='ignore')\n",
        "\n",
        "\n",
        "# Mengurangi jumlah data kelas mayoritas agar sesuai dengan jumlah kelas minoritas\n",
        "data = pd.concat([\n",
        "    data[data['stroke'] == 0].sample(n=data[data['stroke'] == 1].shape[0], random_state=42),\n",
        "    data[data['stroke'] == 1]\n",
        "])\n",
        "\n",
        "#\n",
        "# 2.2 Pisahkan data menjadi fitur dan target\n",
        "#\n",
        "X = data.drop(columns=['stroke'])\n",
        "y = data['stroke']\n",
        "\n",
        "#\n",
        "# 2.3 Buat prediksi menggunakan model yang sudah dilatih \n",
        "# Hint : ( y_pred dan y_prob )\n",
        "#\n",
        "y_pred = model.predict(X)\n",
        "y_prob = model.predict_proba(X)[:, 1]\n",
        "\n",
        "\n",
        "#\n",
        "# 2.4 Hitung metrik evaluasi\n",
        "# Hint : ( accuracy_score, precision_score, recall_score, f1_score, roc_auc_score )\n",
        "#\n",
        "acc = accuracy_score(y, y_pred)\n",
        "prec = precision_score(y, y_pred)\n",
        "rec = recall_score(y, y_pred)\n",
        "f1 = f1_score(y, y_pred)\n",
        "roc_auc = roc_auc_score(y, y_prob)\n",
        "\n",
        "\n",
        "# Tampilkan metrik evaluasi\n",
        "col1, col2, col3, col4 = st.columns(4)\n",
        "\n",
        "with col1:\n",
        "    st.success(f\"Accuracy: **{acc:.2f}**\")\n",
        "\n",
        "with col2:\n",
        "    st.info(f\"Precision: **{prec:.2f}**\")\n",
        "\n",
        "with col3:\n",
        "    st.warning(f\"Recall: **{rec:.2f}**\")\n",
        "\n",
        "with col4:\n",
        "    st.error(f\"ROC AUC: **{roc_auc:.2f}**\")\n",
        "    \n",
        "\n",
        "# Plot options\n",
        "plot_option = st.selectbox(\"Pilih grafik untuk ditampilkan:\",[\"Pilih\", \"ROC AUC Curve\", \"Confusion Matrix\"])\n",
        "\n",
        "if plot_option == \"ROC AUC Curve\":\n",
        "  st.subheader(\"ROC Curve\")\n",
        "  fpr, tpr, _ = roc_curve(y, y_prob)\n",
        "  fig2, ax2 = plt.subplots()\n",
        "  ax2.plot(fpr, tpr, label=f'AUC = {roc_auc:.2f}')\n",
        "  ax2.plot([0, 1], [0, 1], linestyle='--', color='gray')\n",
        "  ax2.set_xlabel('False Positive Rate')\n",
        "  ax2.set_ylabel('True Positive Rate')\n",
        "  ax2.set_title('ROC Curve')\n",
        "  ax2.legend()\n",
        "  st.pyplot(fig2)\n",
        "\n",
        "elif plot_option == \"Confusion Matrix\":\n",
        "  st.subheader(\"Confusion Matrix\")\n",
        "  cm = confusion_matrix(y, y_pred)\n",
        "  fig, ax = plt.subplots()\n",
        "  sns.heatmap(cm, annot=True, fmt='d', cmap='Blues', ax=ax)\n",
        "  ax.set_xlabel('Predicted')\n",
        "  ax.set_ylabel('Actual')\n",
        "  st.pyplot(fig)\n",
        "\n",
        "st.markdown(\"---\")\n",
        "st.subheader(\"Prediksi Risiko Stroke\")\n",
        "\n",
        "# Input form untuk prediksi\n",
        "\n",
        "#\n",
        "# 3. Buat form input untuk data prediksi\n",
        "# Hint : (\n",
        "#     gender -> options = [\"Male\",\"Female\"]\n",
        "#     hypertension -> options = [Ya\", \"Tidak\"]\n",
        "#     Residence_type -> options = [\"Rural (Pedesaan)\", \"Urban (Perkotaan)\"]\n",
        "# )\n",
        "#\n",
        "with st.form(\"prediction_form\"):\n",
        "    gender = st.selectbox(\"Jenis Kelamin\", options=[\"Male\", \"Female\"])\n",
        "    age = st.number_input(\"Usia\", min_value=0.0, max_value=120.0, step=0.1)\n",
        "    hypertension = st.selectbox(\"Hipertensi\", options=[\"Ya\", \"Tidak\"])\n",
        "    heart_disease = st.selectbox(\"Penyakit Jantung\", options=[\"Ya\", \"Tidak\"])\n",
        "    ever_married = st.selectbox(\"Pernah Menikah\", options=[\"Ya\", \"Tidak\"])\n",
        "    work_type = st.selectbox(\"Jenis Pekerjaan\", options=[\"Pegawai Negeri\", \"Belum Pernah Bekerja\", \"Swasta\", \"Wiraswasta\", \"Anak-anak\"])\n",
        "    Residence_type = st.selectbox(\"Tipe Tempat Tinggal\", options=[\"Rural (Pedesaan)\", \"Urban (Perkotaan)\"])\n",
        "    avg_glucose = st.number_input(\"Rata-rata Glukosa\", min_value=0.0, step=0.1)\n",
        "    bmi = st.number_input(\"BMI\", min_value=0.0, step=0.1)\n",
        "    smoking_status = st.selectbox(\"Status Merokok\", options=[\"Tidak diketahui\", \"Pernah Merokok\", \"Tidak Pernah Merokok\", \"Masih Merokok\"])\n",
        "\n",
        "    submit = st.form_submit_button(\"Prediksi\")\n",
        "\n",
        "# fungsi untuk mapping input ke dalam format yang sesuai dengan model\n",
        "def map_inputs():\n",
        "    gender_map = {\"Female\": 0, \"Male\": 1}\n",
        "    hypertension_map = {\"Ya\": 1, \"Tidak\": 0}\n",
        "    heart_map = {\"Ya\": 1, \"Tidak\": 0}\n",
        "    married_map = {\"Tidak\": 0, \"Ya\": 1}\n",
        "    residence_map = {\"Rural (Pedesaan)\": 0, \"Urban (Perkotaan)\": 1}\n",
        "    work_map = {\"Pegawai Negeri\": 0, \"Belum Pernah Bekerja\": 1, \"Swasta\": 2, \"Wiraswasta\": 3, \"Anak-anak\": 4}\n",
        "    smoke_map = {\"Tidak diketahui\": 0, \"Pernah Merokok\": 1, \"Tidak Pernah Merokok\": 2, \"Masih Merokok\": 3}\n",
        "    \n",
        "    #\n",
        "    # 4. Buat dataframe dari input yang sudah dimasukkan\n",
        "    #\n",
        "\n",
        "    return pd.DataFrame([{\n",
        "        \"gender\": gender_map[gender],\n",
        "        \"age\": age,\n",
        "        \"hypertension\": hypertension_map[hypertension],\n",
        "        \"heart_disease\": heart_map[heart_disease],\n",
        "        \"ever_married\": married_map[ever_married],\n",
        "        \"work_type\": work_map[work_type],\n",
        "        \"Residence_type\": residence_map[Residence_type],\n",
        "        \"avg_glucose_level\": avg_glucose,\n",
        "        \"bmi\": bmi,\n",
        "        \"smoking_status\": smoke_map[smoking_status]\n",
        "    }])\n",
        "\n",
        "if submit:\n",
        "    input_df = map_inputs()\n",
        "    prob = model.predict_proba(input_df)[0][1]\n",
        "    pred = model.predict(input_df)[0]\n",
        "\n",
        "    st.subheader(\"Hasil Prediksi\")\n",
        "    st.write(f\"Pasien diprediksi: **{'Berpotensi Mengalami Stroke' if pred == 1 else 'Berpotensi Tidak Mengalami Stroke'}**\")\n",
        "    st.write(f\"Probabilitas stroke: **{prob:.2f}**\")"
      ]
    },
    {
      "cell_type": "markdown",
      "id": "c6f3688d",
      "metadata": {
        "id": "c6f3688d"
      },
      "source": [
        "Ekspos Streamlit local kalian ke public menggunakan Ngrok (Cukup di run sekali)"
      ]
    },
    {
      "cell_type": "code",
      "execution_count": 33,
      "id": "75a5f763",
      "metadata": {
        "id": "75a5f763"
      },
      "outputs": [],
      "source": [
        "from pyngrok import ngrok\n",
        "import threading\n",
        "import time\n",
        "import os"
      ]
    },
    {
      "cell_type": "code",
      "execution_count": 35,
      "id": "0fbdbf4b",
      "metadata": {
        "colab": {
          "base_uri": "https://localhost:8080/"
        },
        "id": "0fbdbf4b",
        "outputId": "80403a13-5920-4cb1-8762-9857b253c266"
      },
      "outputs": [
        {
          "name": "stdout",
          "output_type": "stream",
          "text": [
            "Streamlit app is live at: NgrokTunnel: \"https://4cb0-2001-448a-3027-3ea0-572-e8e5-993a-14e.ngrok-free.app\" -> \"http://localhost:8502\"\n"
          ]
        }
      ],
      "source": [
        "def run_streamlit():\n",
        "    os.system(\"streamlit run app.py --server.port 8502\")\n",
        "\n",
        "thread = threading.Thread(target=run_streamlit, daemon=True)\n",
        "thread.start()\n",
        "\n",
        "time.sleep(5)\n",
        "\n",
        "public_url = ngrok.connect(addr=8502)\n",
        "print(f\"Streamlit app is live at: {public_url}\")\n"
      ]
    },
    {
      "cell_type": "code",
      "execution_count": null,
      "id": "5e418099",
      "metadata": {},
      "outputs": [],
      "source": [
        "#Run on terminal : python -m streamlit run app.py --server.port 8502"
      ]
    }
  ],
  "metadata": {
    "colab": {
      "provenance": []
    },
    "kernelspec": {
      "display_name": "Python 3",
      "language": "python",
      "name": "python3"
    },
    "language_info": {
      "codemirror_mode": {
        "name": "ipython",
        "version": 3
      },
      "file_extension": ".py",
      "mimetype": "text/x-python",
      "name": "python",
      "nbconvert_exporter": "python",
      "pygments_lexer": "ipython3",
      "version": "3.11.2"
    }
  },
  "nbformat": 4,
  "nbformat_minor": 5
}
